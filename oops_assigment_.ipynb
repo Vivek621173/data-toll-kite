{
  "nbformat": 4,
  "nbformat_minor": 0,
  "metadata": {
    "colab": {
      "provenance": []
    },
    "kernelspec": {
      "name": "python3",
      "display_name": "Python 3"
    },
    "language_info": {
      "name": "python"
    }
  },
  "cells": [
    {
      "cell_type": "markdown",
      "source": [],
      "metadata": {
        "id": "OlpMZCslJR1d"
      }
    },
    {
      "cell_type": "markdown",
      "source": [
        "1  What is Object-Oriented Programming (OOP)\n",
        "Ans:Object-Oriented Programming (OOP) is a programming paradigm that organizes software design around objects, which are instances of classes. These objects represent real-world entities or concepts, and they combine both data (attributes) and behavior (methods or functions) into a single unit.\n"
      ],
      "metadata": {
        "id": "ftH_ffEkJUrj"
      }
    },
    {
      "cell_type": "markdown",
      "source": [
        "2  What is a class in OOP+\n",
        " Ans:A class is a blueprint for creating objects, defining the structure attributes and behavior methods that objects created from it will have.\n"
      ],
      "metadata": {
        "id": "FQbXqF4KJwQa"
      }
    },
    {
      "cell_type": "markdown",
      "source": [
        "3  What is an object in OOP+\n",
        " Ans:An object is an instance of a class that contains real data and methods to operate on that data.\n"
      ],
      "metadata": {
        "id": "knlXGRSZKMvA"
      }
    },
    {
      "cell_type": "markdown",
      "source": [
        "4  What is the difference between abstraction and encapsulation\n",
        " Ans: Abstraction hides the complexity by providing a simple interface.\n",
        "Encapsulation involves bundling data and methods within a class and restricting direct access to some of the object's components.\n"
      ],
      "metadata": {
        "id": "pXDyyfz_Kfbt"
      }
    },
    {
      "cell_type": "markdown",
      "source": [
        "5  What are dunder methods in Python+\n",
        " Ans:Dunder methods (short for \"double underscore\") are special methods in Python, like __init__ or __str__, that enable custom behavior for built-in operations (e.g., object creation, string conversion).\n",
        "\n",
        "\n"
      ],
      "metadata": {
        "id": "_YD6d5lhKxf1"
      }
    },
    {
      "cell_type": "markdown",
      "source": [
        "6  Explain the concept of inheritance in OOPH\n",
        "  Ans:Inheritance allows a class (child class) to inherit attributes and methods from another class (parent class), promoting code reuse."
      ],
      "metadata": {
        "id": "Qv5Fa6xgK_85"
      }
    },
    {
      "cell_type": "markdown",
      "source": [
        "7  What is polymorphism in OOP+\n",
        " Ans:Polymorphism allows objects of different classes to be treated as instances of a common parent class, enabling method overriding and dynamic method execution.\n"
      ],
      "metadata": {
        "id": "t4BOa5e0LL2n"
      }
    },
    {
      "cell_type": "markdown",
      "source": [
        "8  How is encapsulation achieved in Python+\n",
        " Ans:Encapsulation is achieved by defining classes and using private attributes (prefix _ or __), while providing public methods to interact with those attributes.\n"
      ],
      "metadata": {
        "id": "sKz_lxwALklP"
      }
    },
    {
      "cell_type": "markdown",
      "source": [
        "9  What is a constructor in Python+\n",
        " Ans:A constructor is a special method (__init__) that is automatically called when an object is created, initializing the object's attributes.\n"
      ],
      "metadata": {
        "id": "GH5BQRUPLxCc"
      }
    },
    {
      "cell_type": "markdown",
      "source": [
        "10  What are class and static methods in Python+\n",
        " Ans:Class methods are bound to the class, not the instance, and are defined with @classmethod.\n",
        "Static methods don't take self or cls as their first parameter and are defined with @staticmethod.\n"
      ],
      "metadata": {
        "id": "i4SrolBRL6Xr"
      }
    },
    {
      "cell_type": "markdown",
      "source": [
        "11 What is method overloading in Python+\n",
        " Ans:Python does not directly support method overloading. However, you can simulate it by using default arguments or variable-length argument lists.\n",
        "\n",
        "\n"
      ],
      "metadata": {
        "id": "4Exdup6nN7tr"
      }
    },
    {
      "cell_type": "markdown",
      "source": [
        "12  What is method overriding in OOP+\n",
        " Ans:Method overriding occurs when a subclass provides a specific implementation for a method already defined in its superclass.\n"
      ],
      "metadata": {
        "id": "-6ZrYJOPOESS"
      }
    },
    {
      "cell_type": "markdown",
      "source": [
        "13  What is a property decorator in Python\n",
        " Ans:The @property decorator allows you to define a method as a property, which can be accessed like an attribute.\n"
      ],
      "metadata": {
        "id": "U75XlDLwOzR7"
      }
    },
    {
      "cell_type": "markdown",
      "source": [
        "14  Why is polymorphism important in OOP+\n",
        " Ans: Polymorphism enables flexibility, code reuse, and easier maintenance by allowing different classes to define their own behavior for shared methods.\n"
      ],
      "metadata": {
        "id": "XLrAryvbO92-"
      }
    },
    {
      "cell_type": "markdown",
      "source": [
        "15  What is an abstract class in Python\n",
        " Ans:An abstract class is a class that cannot be instantiated directly and usually contains one or more abstract methods that must be implemented by subclasses.\n"
      ],
      "metadata": {
        "id": "zBPBpq1NPLPt"
      }
    },
    {
      "cell_type": "markdown",
      "source": [
        "16  What are the advantages of OOP\n",
        " Ans:OOP promotes modularity, code reuse, flexibility, and maintainability by organizing code into classes and objects.\n"
      ],
      "metadata": {
        "id": "7IJv0r5JPli5"
      }
    },
    {
      "cell_type": "markdown",
      "source": [
        "17  What is the difference between a class variable and an instance variable\n",
        " Ans:Here are concise answers to your questions:\n",
        "\n",
        "1. **What is a class in OOP?**  \n",
        "   A class is a blueprint for creating objects, defining the structure (attributes) and behavior (methods) that objects created from it will have.\n",
        "\n",
        "2. **What is an object in OOP?**  \n",
        "   An object is an instance of a class that contains real data and methods to operate on that data.\n",
        "\n",
        "3. **What is the difference between abstraction and encapsulation?**  \n",
        "   - **Abstraction** hides the complexity by providing a simple interface.  \n",
        "   - **Encapsulation** involves bundling data and methods within a class and restricting direct access to some of the object's components.\n",
        "\n",
        "4. **What are dunder methods in Python?**  \n",
        "   Dunder methods (short for \"double underscore\") are special methods in Python, like `__init__` or `__str__`, that enable custom behavior for built-in operations (e.g., object creation, string conversion).\n",
        "\n",
        "5. **Explain the concept of inheritance in OOP.**  \n",
        "   Inheritance allows a class (child class) to inherit attributes and methods from another class (parent class), promoting code reuse.\n",
        "\n",
        "6. **What is polymorphism in OOP?**  \n",
        "   Polymorphism allows objects of different classes to be treated as instances of a common parent class, enabling method overriding and dynamic method execution.\n",
        "\n",
        "7. **How is encapsulation achieved in Python?**  \n",
        "   Encapsulation is achieved by defining classes and using private attributes (prefix `_` or `__`), while providing public methods to interact with those attributes.\n",
        "\n",
        "8. **What is a constructor in Python?**  \n",
        "   A constructor is a special method (`__init__`) that is automatically called when an object is created, initializing the object's attributes.\n",
        "\n",
        "9. **What are class and static methods in Python?**  \n",
        "   - **Class methods** are bound to the class, not the instance, and are defined with `@classmethod`.  \n",
        "   - **Static methods** don't take `self` or `cls` as their first parameter and are defined with `@staticmethod`.\n",
        "\n",
        "10. **What is method overloading in Python?**  \n",
        "   Python does not directly support method overloading. However, you can simulate it by using default arguments or variable-length argument lists.\n",
        "\n",
        "11. **What is method overriding in OOP?**  \n",
        "   Method overriding occurs when a subclass provides a specific implementation for a method already defined in its superclass.\n",
        "\n",
        "12. **What is a property decorator in Python?**  \n",
        "   The `@property` decorator allows you to define a method as a property, which can be accessed like an attribute.\n",
        "\n",
        "13. **Why is polymorphism important in OOP?**  \n",
        "   Polymorphism enables flexibility, code reuse, and easier maintenance by allowing different classes to define their own behavior for shared methods.\n",
        "\n",
        "14. **What is an abstract class in Python?**  \n",
        "   An abstract class is a class that cannot be instantiated directly and usually contains one or more abstract methods that must be implemented by subclasses.\n",
        "\n",
        "15. **What are the advantages of OOP?**  \n",
        "   OOP promotes modularity, code reuse, flexibility, and maintainability by organizing code into classes and objects.\n",
        "\n",
        "16. **What is the difference between a class variable and an instance variable?  \n",
        "   - Class variables** are shared by all instances of a class.  \n",
        "   - Instance variables** are unique to each object/instance.\n"
      ],
      "metadata": {
        "id": "ERWuhjprQBPf"
      }
    },
    {
      "cell_type": "markdown",
      "source": [
        "18  What is multiple inheritance in Python\n",
        "  Ans:Multiple inheritance in Python is a feature where a class can inherit from more than one parent class. This allows a child class to combine the behaviors and attributes of multiple classes, enabling more flexibility and code reuse."
      ],
      "metadata": {
        "id": "4hwE8HRiQTO4"
      }
    },
    {
      "cell_type": "markdown",
      "source": [
        "19  Explain the purpose of ‘’__str__’ and ‘__repr__’ ‘ methods in PythonH\n",
        " Ans:__str__: Defines a user-friendly, informal string representation of an object, used for printing and displaying the object to the end-user (e.g., print()).\n",
        "\n",
        "__repr__: Defines a more detailed, unambiguous string representation, mainly for developers and debugging. It's used by repr() and in the interactive interpret\n",
        "\n",
        "__str__: For humans (readable format).\n",
        "__repr__: For developers (precise, ideally recreates the object).\n",
        "\n",
        "\n",
        "\n"
      ],
      "metadata": {
        "id": "wnaZuoJDXQ6K"
      }
    },
    {
      "cell_type": "markdown",
      "source": [
        "20  What is the significance of the ‘super()’ function in Python\n",
        " Ans:The `super()` function in Python is used to call methods from a parent class, allowing subclasses to access and extend or override parent class functionality. It simplifies method calls, especially in multiple inheritance, and ensures proper initialization of parent classes.\n",
        "- `super()`: Calls parent class methods, ensuring efficient method resolution and avoiding redundancy in subclasses.\n"
      ],
      "metadata": {
        "id": "03nbXe3qaSv4"
      }
    },
    {
      "cell_type": "markdown",
      "source": [
        "21  What is the significance of the __del__ method in Python\n",
        " Ans:The `__del__` method in Python is a special method used to define the behavior when an object is about to be destroyed or garbage collected. It acts as a destructor, allowing you to clean up resources (like closing files or network connections) before the object is removed from memory.\n",
        "-_del: It is called when an object is about to be destroyed, allowing cleanup of resources before the object is deleted.\n"
      ],
      "metadata": {
        "id": "uq6zcAnmaqP9"
      }
    },
    {
      "cell_type": "markdown",
      "source": [
        "22 What is the difference between @staticmethod and @classmethod in Python\n",
        " Ans:In Python:\n",
        "\n",
        "- **`@staticmethod`**: Defines a method that doesn’t require access to instance (`self`) or class (`cls`). It behaves like a regular function but belongs to the class.\n",
        "\n",
        "- **`@classmethod`**: Defines a method that takes the class (`cls`) as the first argument instead of an instance. It can modify class-level variables and is bound to the class, not the instance.\n",
        "\n",
        "### In short:\n",
        "- **`@staticmethod`**: Does not access instance or class. It’s like a normal function within the class.\n",
        "- **`@classmethod`**: Takes the class (`cls`) as the first argument, used for modifying class-level variables.\n"
      ],
      "metadata": {
        "id": "wGoSZTeHa79L"
      }
    },
    {
      "cell_type": "markdown",
      "source": [
        "23  How does polymorphism work in Python with inheritance\n",
        "  Ans:Polymorphism in Python with inheritance allows subclasses to provide different implementations of methods that are defined in a parent class. Even though the method has the same name, the behavior can differ depending on the subclass.\n",
        "\n",
        "\n"
      ],
      "metadata": {
        "id": "v_BPLsRIbOvp"
      }
    },
    {
      "cell_type": "markdown",
      "source": [
        "24  What is method chaining in Python OOP\n",
        " Ans:Method chaining in Python (and OOP in general) refers to the technique of calling multiple methods on the same object in a single line of code. This is possible because each method in the chain returns the object itself (or another object that supports method calls), allowing the next method to be invoked on that same object.\n"
      ],
      "metadata": {
        "id": "YbxW9KInbgfa"
      }
    },
    {
      "cell_type": "markdown",
      "source": [
        "25 What is the purpose of the __call__ method in Python?\n",
        " Ans:The __call__ method in Python allows an object to be used as a function. When you define this method in a class, instances of that class can be called like regular functions, enabling custom behavior when the object is called.\n",
        "\n",
        "Purpose:\n",
        "It makes an object callable, meaning you can use parentheses () on the object and execute custom logic within the __call__ method.\n",
        "It’s useful for implementing behaviors where objects need to behave like functions or callbacks."
      ],
      "metadata": {
        "id": "0bx6uTqfbwgi"
      }
    },
    {
      "cell_type": "markdown",
      "source": [
        "                                     Practical Questions"
      ],
      "metadata": {
        "id": "J0T9q7ZTb_5y"
      }
    },
    {
      "cell_type": "markdown",
      "source": [
        "1. Create a parent class Animal with a method speak() that prints a generic message. Create a child class Dog\n",
        "that overrides the speak() method to print \"Bark!\".\n",
        " Ans:"
      ],
      "metadata": {
        "id": "58fBkCq6cPp_"
      }
    },
    {
      "cell_type": "code",
      "source": [
        "# Parent class Animal\n",
        "class Animal:\n",
        "    def speak(self):\n",
        "        print(\"Animal makes a sound\")\n",
        "\n",
        "# Child class Dog that overrides speak()\n",
        "class Dog(Animal):\n",
        "    def speak(self):\n",
        "        print(\"Bark!\")\n",
        "\n",
        "# Creating an object of Dog\n",
        "dog = Dog()\n",
        "dog.speak()  # This will call the overridden speak() method in Dog\n",
        "\n"
      ],
      "metadata": {
        "colab": {
          "base_uri": "https://localhost:8080/"
        },
        "id": "6y72n1avcWkB",
        "outputId": "dfb54b03-a159-4042-c6f6-365b1e179508"
      },
      "execution_count": 1,
      "outputs": [
        {
          "output_type": "stream",
          "name": "stdout",
          "text": [
            "Bark!\n"
          ]
        }
      ]
    },
    {
      "cell_type": "markdown",
      "source": [
        "2 Write a program to create an abstract class Shape with a method area(). Derive classes Circle and Rectangle\n",
        "from it and implement the area() method in both\n",
        "Ans"
      ],
      "metadata": {
        "id": "SXVDA4cucvET"
      }
    },
    {
      "cell_type": "code",
      "source": [
        "from abc import ABC, abstractmethod\n",
        "import math\n",
        "\n",
        "# Abstract class Shape\n",
        "class Shape(ABC):\n",
        "    @abstractmethod\n",
        "    def area(self):\n",
        "        pass\n",
        "\n",
        "# Class Circle that inherits from Shape\n",
        "class Circle(Shape):\n",
        "    def __init__(self, radius):\n",
        "        self.radius = radius\n",
        "\n",
        "    def area(self):\n",
        "        return math.pi * (self.radius ** 2)\n",
        "\n",
        "# Class Rectangle that inherits from Shape\n",
        "class Rectangle(Shape):\n",
        "    def __init__(self, length, width):\n",
        "        self.length = length\n",
        "        self.width = width\n",
        "\n",
        "    def area(self):\n",
        "        return self.length * self.width\n",
        "\n",
        "# Creating objects of Circle and Rectangle\n",
        "circle = Circle(5)\n",
        "rectangle = Rectangle(4, 6)\n",
        "\n",
        "# Calling area() method for both objects\n",
        "print(\"Area of Circle:\", circle.area())  # Output: 78.53981633974483\n",
        "print(\"Area of Rectangle:\", rectangle.area())  # Output: 24\n"
      ],
      "metadata": {
        "colab": {
          "base_uri": "https://localhost:8080/"
        },
        "id": "W0_lT4YPc5I4",
        "outputId": "24766455-6d72-4f17-d3ef-bca36d53f8ec"
      },
      "execution_count": 2,
      "outputs": [
        {
          "output_type": "stream",
          "name": "stdout",
          "text": [
            "Area of Circle: 78.53981633974483\n",
            "Area of Rectangle: 24\n"
          ]
        }
      ]
    },
    {
      "cell_type": "markdown",
      "source": [
        "3 . Implement a multi-level inheritance scenario where a class Vehicle has an attribute type. Derive a class Car\n",
        "and further derive a class ElectricCar that adds a battery attribute.\n",
        "Ans:"
      ],
      "metadata": {
        "id": "Y6q4JYxVdDGj"
      }
    },
    {
      "cell_type": "code",
      "source": [
        "# Base class Vehicle\n",
        "class Vehicle:\n",
        "    def __init__(self, vehicle_type):\n",
        "        self.vehicle_type = vehicle_type\n",
        "\n",
        "    def display_info(self):\n",
        "        print(f\"Vehicle Type: {self.vehicle_type}\")\n",
        "\n",
        "# Class Car that inherits from Vehicle\n",
        "class Car(Vehicle):\n",
        "    def __init__(self, vehicle_type, brand):\n",
        "        super().__init__(vehicle_type)  # Calling parent class constructor\n",
        "        self.brand = brand\n",
        "\n",
        "    def display_info(self):\n",
        "        super().display_info()  # Calling Vehicle's display_info()\n",
        "        print(f\"Brand: {self.brand}\")\n",
        "# Base class Vehicle\n",
        "class Vehicle:\n",
        "    def __init__(self, vehicle_type):\n",
        "        self.vehicle_type = vehicle_type\n",
        "\n",
        "    def display_info(self):\n",
        "        print(f\"Vehicle Type: {self.vehicle_type}\")\n",
        "\n",
        "# Class Car that inherits from Vehicle\n",
        "class Car(Vehicle):\n",
        "    def __init__(self, vehicle_type, brand):\n",
        "        super().__init__(vehicle_type)  # Calling parent class constructor\n",
        "        self.brand = brand\n",
        "\n",
        "    def display_info(self):\n",
        "        super().display_info()  # Calling Vehicle's display_info()\n",
        "        print(f\"Brand: {self.brand}\")\n",
        "\n",
        "# Class ElectricCar that inherits from Car\n",
        "class ElectricCar(Car):\n",
        "    pass"
      ],
      "metadata": {
        "id": "lMKPB5WvdJMm"
      },
      "execution_count": 4,
      "outputs": []
    },
    {
      "cell_type": "markdown",
      "source": [
        " 4  Demonstrate polymorphism by creating a base class Bird with a method fly(). Create two derived classes\n",
        "Sparrow and Penguin that override the fly() method.\n",
        " Ans:"
      ],
      "metadata": {
        "id": "QjR1wU7edf1j"
      }
    },
    {
      "cell_type": "code",
      "source": [
        "# Base class Bird\n",
        "class Bird:\n",
        "    def fly(self):\n",
        "        print(\"This bird can fly.\")\n",
        "\n",
        "# Derived class Sparrow that overrides the fly() method\n",
        "class Sparrow(Bird):\n",
        "    def fly(self):\n",
        "        print(\"Sparrow flies in the sky.\")\n",
        "\n",
        "# Derived class Penguin that overrides the fly() method\n",
        "class Penguin(Bird):\n",
        "    def fly(self):\n",
        "        print(\"Penguin cannot fly, but it can swim.\")\n",
        "\n",
        "# Creating objects of Sparrow and Penguin\n",
        "sparrow = Sparrow()\n",
        "penguin = Penguin()\n",
        "\n",
        "# Demonstrating polymorphism\n",
        "birds = [sparrow, penguin]\n",
        "\n",
        "for bird in birds:\n",
        "    bird.fly()  # This calls the appropriate fly() method based on the object type\n"
      ],
      "metadata": {
        "colab": {
          "base_uri": "https://localhost:8080/"
        },
        "id": "klOMfCy4dvsf",
        "outputId": "0a807cb3-0ac5-4eab-c914-b012800ed0a9"
      },
      "execution_count": 5,
      "outputs": [
        {
          "output_type": "stream",
          "name": "stdout",
          "text": [
            "Sparrow flies in the sky.\n",
            "Penguin cannot fly, but it can swim.\n"
          ]
        }
      ]
    },
    {
      "cell_type": "markdown",
      "source": [
        "5 Write a program to demonstrate encapsulation by creating a class BankAccount with private attributes\n",
        "balance and methods to deposit, withdraw, and check balance.\n",
        " Ans:"
      ],
      "metadata": {
        "id": "KkhVZpRQeyME"
      }
    },
    {
      "cell_type": "code",
      "source": [
        "class BankAccount:\n",
        "    def __init__(self, initial_balance=0):\n",
        "        # Private attribute\n",
        "        self.__balance = initial_balance\n",
        "\n",
        "    # Method to deposit money\n",
        "    def deposit(self, amount):\n",
        "        if amount > 0:\n",
        "            self.__balance += amount\n"
      ],
      "metadata": {
        "id": "WQEZp9pee5C2"
      },
      "execution_count": 6,
      "outputs": []
    },
    {
      "cell_type": "markdown",
      "source": [
        "6 . Demonstrate runtime polymorphism using a method play() in a base class Instrument. Derive classes Guitar\n",
        "and Piano that implement their own version of play().\n",
        "  Ans:"
      ],
      "metadata": {
        "id": "m7zjDPK0fDW2"
      }
    },
    {
      "cell_type": "code",
      "source": [
        "# Base class Instrument\n",
        "class Instrument:\n",
        "    def play(self):\n",
        "        print(\"Playing an instrument.\")\n",
        "\n",
        "# Derived class Guitar that overrides the play() method\n",
        "class Guitar(Instrument):\n",
        "    def play(self):\n",
        "        print(\"Strumming the guitar.\")\n",
        "\n",
        "# Derived class Piano that overrides the play() method\n",
        "class Piano(Instrument):\n",
        "    def play(self):\n",
        "        print(\"Playing the piano.\")\n",
        "\n",
        "# Creating objects of Guitar and Piano\n",
        "guitar = Guitar()\n",
        "piano = Piano()\n",
        "\n",
        "# Demonstrating runtime polymorphism\n",
        "instruments = [guitar, piano]\n",
        "# Base class Instrument\n",
        "class Instrument:\n",
        "    def play(self):\n",
        "        print(\"Playing an instrument.\")\n",
        "\n",
        "# Derived class Guitar that overrides the play() method\n",
        "class Guitar(Instrument):\n",
        "    def play(self):\n",
        "        print(\"Strumming the guitar.\")\n",
        "\n",
        "# Derived class Piano that overrides the play() method\n",
        "class Piano(Instrument):\n",
        "    def play(self):\n",
        "        print(\"Playing the piano.\")\n",
        "\n",
        "# Creating objects of Guitar and Piano\n",
        "guitar = Guitar()\n",
        "piano = Piano()\n",
        "\n",
        "# Demonstrating runtime polymorphism\n",
        "instruments = [guitar, piano]\n",
        "\n",
        "for instrument in instruments:\n",
        "    instrument.play()"
      ],
      "metadata": {
        "colab": {
          "base_uri": "https://localhost:8080/"
        },
        "id": "FI6tcQWLfJx0",
        "outputId": "a49bf6a6-b809-4458-e6af-fa41eeb13f57"
      },
      "execution_count": 8,
      "outputs": [
        {
          "output_type": "stream",
          "name": "stdout",
          "text": [
            "Strumming the guitar.\n",
            "Playing the piano.\n"
          ]
        }
      ]
    },
    {
      "cell_type": "markdown",
      "source": [
        "7 7. Create a class MathOperations with a class method add_numbers() to add two numbers and a static\n",
        "method subtract_numbers() to subtract two numbers.\n",
        " Ans:\n"
      ],
      "metadata": {
        "id": "j8IEAprDfYgU"
      }
    },
    {
      "cell_type": "code",
      "source": [
        "class MathOperations:\n",
        "\n",
        "    # Class method to add two numbers\n",
        "    @classmethod\n",
        "    def add_numbers(cls, num1, num2):\n",
        "        return num1 + num2\n",
        "\n",
        "    # Static method to subtract two numbers\n",
        "    @staticmethod\n",
        "    def subtract_numbers(num1, num2):\n",
        "        return num1 - num2\n",
        "\n",
        "# Using the class method to add numbers\n",
        "sum_result = MathOperations.add_numbers(10, 5)\n",
        "print(\"Sum:\", sum_result)\n",
        "\n",
        "# Using the static method to subtract numbers\n",
        "difference_result = MathOperations.subtract_numbers(10, 5)\n",
        "print(\"Difference:\", difference_result)\n"
      ],
      "metadata": {
        "colab": {
          "base_uri": "https://localhost:8080/"
        },
        "id": "-xDxcojgf30R",
        "outputId": "d579ba5e-cfe9-4ff4-e066-e249fa678571"
      },
      "execution_count": 9,
      "outputs": [
        {
          "output_type": "stream",
          "name": "stdout",
          "text": [
            "Sum: 15\n",
            "Difference: 5\n"
          ]
        }
      ]
    },
    {
      "cell_type": "markdown",
      "source": [
        "8. Implement a class Person with a class method to count the total number of persons created.\n",
        " Ans:"
      ],
      "metadata": {
        "id": "5tv38jVPgQWQ"
      }
    },
    {
      "cell_type": "code",
      "source": [
        "class Person:\n",
        "    total_persons = 0  # Class variable to count persons\n",
        "\n",
        "    def __init__(self, name, age):\n",
        "        self.name = name\n",
        "        self.age = age\n",
        "        Person.total_persons += 1  # Increment the counter whenever a new object is created\n",
        "\n",
        "    @classmethod\n",
        "    def count_persons(cls):\n",
        "        return cls.total_persons  # Return the total number of persons created\n",
        "\n",
        "# Creating objects of Person\n",
        "person1 = Person(\"John\", 30)\n",
        "person2 = Person(\"Jane\", 25)\n",
        "\n",
        "# Using the class method to count persons\n",
        "print(\"Total persons created:\", Person.count_persons())\n"
      ],
      "metadata": {
        "colab": {
          "base_uri": "https://localhost:8080/"
        },
        "id": "_KrMRHwfgTg1",
        "outputId": "3ec9cff5-64da-4beb-a0bd-695da4ec75fd"
      },
      "execution_count": 10,
      "outputs": [
        {
          "output_type": "stream",
          "name": "stdout",
          "text": [
            "Total persons created: 2\n"
          ]
        }
      ]
    },
    {
      "cell_type": "markdown",
      "source": [
        "9  Write a class Fraction with attributes numerator and denominator. Override the str method to display the\n",
        "fraction as \"numerator/denominator\".\n",
        " Ans:"
      ],
      "metadata": {
        "id": "flILpfO6gY6E"
      }
    },
    {
      "cell_type": "code",
      "source": [
        "class Fraction:\n",
        "    def __init__(self, numerator, denominator):\n",
        "        self.numerator = numerator\n",
        "        self.denominator = denominator\n",
        "\n",
        "    def __str__(self):\n",
        "        return f\"{self.numerator}/{self.denominator}\"\n",
        "\n",
        "# Creating an object of Fraction\n",
        "fraction = Fraction(3, 4)\n",
        "\n",
        "# Displaying the fraction using the overridden __str__ method\n",
        "print(fraction)  # Output: 3/4\n"
      ],
      "metadata": {
        "colab": {
          "base_uri": "https://localhost:8080/"
        },
        "id": "SLOLFYfzgh30",
        "outputId": "1e6d82fb-d81a-4cd7-cc99-7058634ef4b2"
      },
      "execution_count": 11,
      "outputs": [
        {
          "output_type": "stream",
          "name": "stdout",
          "text": [
            "3/4\n"
          ]
        }
      ]
    },
    {
      "cell_type": "markdown",
      "source": [
        "10 Demonstrate operator overloading by creating a class Vector and overriding the add method to add two\n",
        "vectors.\n",
        " Ans:"
      ],
      "metadata": {
        "id": "ngu1T87HgnQ9"
      }
    },
    {
      "cell_type": "code",
      "source": [
        "class Vector:\n",
        "    def __init__(self, x, y):\n",
        "        self.x = x\n",
        "        self.y = y\n",
        "\n",
        "    # Overloading the + operator to add two vectors\n",
        "    def __add__(self, other):\n",
        "        return Vector(self.x + other.x, self.y + other.y)\n",
        "\n",
        "    def __str__(self):\n",
        "        return f\"({self.x}, {self.y})\"\n",
        "\n",
        "# Creating two Vector objects\n",
        "vector1 = Vector(2, 3)\n",
        "vector2 = Vector(4, 5)\n",
        "\n",
        "# Adding the two vectors using the overloaded + operator\n",
        "result = vector1 + vector2\n",
        "\n",
        "# Displaying the result\n",
        "print(result)  # Output: (6, 8)\n"
      ],
      "metadata": {
        "colab": {
          "base_uri": "https://localhost:8080/"
        },
        "id": "Ubkom8E1gwYc",
        "outputId": "fdbdd39c-bc97-4f2b-ecaf-a547f00676ad"
      },
      "execution_count": 12,
      "outputs": [
        {
          "output_type": "stream",
          "name": "stdout",
          "text": [
            "(6, 8)\n"
          ]
        }
      ]
    },
    {
      "cell_type": "markdown",
      "source": [
        " 11. Create a class Person with attributes name and age. Add a method greet() that prints \"Hello, my name is\n",
        "{name} and I am {age} years old.\n",
        " Ans:"
      ],
      "metadata": {
        "id": "ZGc8_0jHg2Ik"
      }
    },
    {
      "cell_type": "code",
      "source": [
        "class Person:\n",
        "    def __init__(self, name, age):\n",
        "        self.name = name\n",
        "        self.age = age\n",
        "\n",
        "    def greet(self):\n",
        "        print(f\"Hello, my name is {self.name} and I am {self.age} years old.\")\n",
        "\n",
        "# Creating an object of Person\n",
        "person = Person(\"Vivek\", 21)\n",
        "\n",
        "# Calling the greet method\n",
        "person.greet()  # Output: Hello, my name is Alice and I am 28 years old.\n"
      ],
      "metadata": {
        "colab": {
          "base_uri": "https://localhost:8080/"
        },
        "id": "6E_mZF0_hC-K",
        "outputId": "e682d374-3b8f-48d3-d214-28a948a7d94d"
      },
      "execution_count": 14,
      "outputs": [
        {
          "output_type": "stream",
          "name": "stdout",
          "text": [
            "Hello, my name is Vivek and I am 21 years old.\n"
          ]
        }
      ]
    },
    {
      "cell_type": "markdown",
      "source": [
        " 12. Implement a class Student with attributes name and grades. Create a method average_grade() to compute\n",
        "the average of the grades.\n",
        " Ans:"
      ],
      "metadata": {
        "id": "b8itqnk5iJnC"
      }
    },
    {
      "cell_type": "code",
      "source": [
        "class Student:\n",
        "    def __init__(self, name, grades):\n",
        "        # Initialize the student with a name and a list of grades\n",
        "        self.name = name\n",
        "        self.grades = grades\n",
        "\n",
        "    def average_grade(self):\n",
        "        # Compute and return the average of the grades\n",
        "        if len(self.grades) == 0:\n",
        "            return 0  # If there are no grades, return 0 to avoid division by zero\n",
        "        return sum(self.grades) / len(self.grades)\n",
        "\n",
        "# Example usage:\n",
        "student1 = Student(\"Vivek\", [85, 90, 78, 92])\n",
        "student2 = Student(\"Bob\", [70, 88, 84, 76])\n",
        "\n",
        "print(f\"{student1.name}'s average grade: {student1.average_grade()}\")\n",
        "print(f\"{student2.name}'s average grade: {student2.average_grade()}\")\n",
        ",\n"
      ],
      "metadata": {
        "colab": {
          "base_uri": "https://localhost:8080/",
          "height": 70
        },
        "id": "dm28n1wdiXL6",
        "outputId": "e9e1187c-7fcd-4850-c1d1-bf7cddba8e50"
      },
      "execution_count": 18,
      "outputs": [
        {
          "output_type": "stream",
          "name": "stdout",
          "text": [
            "Vivek's average grade: 86.25\n",
            "Bob's average grade: 79.5\n"
          ]
        },
        {
          "output_type": "execute_result",
          "data": {
            "text/plain": [
              "''"
            ],
            "application/vnd.google.colaboratory.intrinsic+json": {
              "type": "string"
            }
          },
          "metadata": {},
          "execution_count": 18
        }
      ]
    },
    {
      "cell_type": "markdown",
      "source": [
        "13 Create a class Rectangle with methods set_dimensions() to set the dimensions and area() to calculate the\n",
        "area.\n",
        " Ans:"
      ],
      "metadata": {
        "id": "9gOhIXQNiz2t"
      }
    },
    {
      "cell_type": "code",
      "source": [
        "class Rectangle:\n",
        "    def __init__(self):\n",
        "        # Initialize with default dimensions\n",
        "        self.length = 0\n",
        "        self.width = 0\n",
        "\n",
        "    def set_dimensions(self, length, width):\n",
        "        # Set the dimensions of the rectangle\n",
        "        self.length = length\n",
        "        self.width = width\n",
        "\n",
        "    def area(self):\n",
        "        # Calculate and return the area of the rectangle\n",
        "        return self.length * self.width\n",
        "\n",
        "# Example usage:\n",
        "rectangle = Rectangle()\n",
        "rectangle.set_dimensions(5, 3)\n",
        "\n",
        "print(f\"Rectangle area: {rectangle.area()}\")\n"
      ],
      "metadata": {
        "colab": {
          "base_uri": "https://localhost:8080/"
        },
        "id": "6w5PXygnC8Cc",
        "outputId": "d74af842-9cd8-406d-9675-1ff86e656d61"
      },
      "execution_count": 1,
      "outputs": [
        {
          "output_type": "stream",
          "name": "stdout",
          "text": [
            "Rectangle area: 15\n"
          ]
        }
      ]
    },
    {
      "cell_type": "markdown",
      "source": [
        "14. Create a class Employee with a method calculate_salary() that computes the salary based on hours worked\n",
        "and hourly rate. Create a derived class Manager that adds a bonus to the salary\n",
        " Ans:"
      ],
      "metadata": {
        "id": "U1ZX_4LnDC3m"
      }
    },
    {
      "cell_type": "code",
      "source": [
        "class Employee:\n",
        "    def __init__(self, name, hours_worked, hourly_rate):\n",
        "        # Initialize the employee with name, hours worked, and hourly rate\n",
        "        self.name = name\n",
        "        self.hours_worked = hours_worked\n",
        "        self.hourly_rate = hourly_rate\n",
        "\n",
        "    def calculate_salary(self):\n",
        "        # Calculate the salary based on hours worked and hourly rate\n",
        "        return self.hours_worked * self.hourly_rate\n",
        "\n",
        "class Manager(Employee):\n",
        "    def __init__(self, name, hours_worked, hourly_rate, bonus):\n",
        "        # Initialize the manager with name, hours worked, hourly rate, and bonus\n",
        "        super().__init__(name, hours_worked, hourly_rate)\n",
        "        self.bonus = bonus\n",
        "\n",
        "    def calculate_salary(self):\n",
        "        # Calculate the salary and add the bonus\n",
        "        base_salary = super().calculate_salary()\n",
        "        return base_salary + self.bonus\n",
        "\n",
        "# Example usage:\n",
        "employee = Employee(\"Vivek\", 160, 20)  # 160 hours worked at $20/hour\n",
        "manager = Manager(\"Choti\", 160, 25, 500)  # 160 hours worked at $25/hour + $500 bonus\n",
        "\n",
        "print(f\"Employee {employee.name}'s salary: ${employee.calculate_salary()}\")\n",
        "print(f\"Manager {manager.name}'s salary: ${manager.calculate_salary()}\")\n"
      ],
      "metadata": {
        "colab": {
          "base_uri": "https://localhost:8080/"
        },
        "id": "x28HvH7SDK2c",
        "outputId": "468f4628-9b53-4655-a29b-a723158bfa6c"
      },
      "execution_count": 3,
      "outputs": [
        {
          "output_type": "stream",
          "name": "stdout",
          "text": [
            "Employee Vivek's salary: $3200\n",
            "Manager Choti's salary: $4500\n"
          ]
        }
      ]
    },
    {
      "cell_type": "markdown",
      "source": [
        "15  Create a class Product with attributes name, price, and quantity. Implement a method total_price() that\n",
        "calculates the total price of the product.\n",
        " Ans:"
      ],
      "metadata": {
        "id": "J4zHlW-LDqgg"
      }
    },
    {
      "cell_type": "code",
      "source": [
        "class Product:\n",
        "    def __init__(self, name, price, quantity):\n",
        "        # Initialize the product with name, price, and quantity\n",
        "        self.name = name\n",
        "        self.price = price\n",
        "        self.quantity = quantity\n",
        "\n",
        "    def total_price(self):\n",
        "        # Calculate the total price (price * quantity)\n",
        "        return self.price * self.quantity\n",
        "\n",
        "# Example usage:\n",
        "product = Product(\"Laptop\", 1200, 3)\n",
        "\n",
        "print(f\"Total price of {product.name}: ${product.total_price()}\")\n"
      ],
      "metadata": {
        "colab": {
          "base_uri": "https://localhost:8080/"
        },
        "id": "yE5snUliDuMV",
        "outputId": "a9dd017c-0e20-47c2-cae5-1d4122401dce"
      },
      "execution_count": 4,
      "outputs": [
        {
          "output_type": "stream",
          "name": "stdout",
          "text": [
            "Total price of Laptop: $3600\n"
          ]
        }
      ]
    },
    {
      "cell_type": "markdown",
      "source": [
        "16  Create a class Animal with an abstract method sound(). Create two derived classes Cow and Sheep that\n",
        "implement the sound() method.\n",
        " Ans:\n"
      ],
      "metadata": {
        "id": "AxpKWIXSD30G"
      }
    },
    {
      "cell_type": "code",
      "source": [
        "from abc import ABC, abstractmethod\n",
        "\n",
        "class Animal(ABC):\n",
        "    # Abstract method that will be implemented by derived classes\n",
        "    @abstractmethod\n",
        "    def sound(self):\n",
        "        pass\n",
        "\n",
        "class Cow(Animal):\n",
        "    def sound(self):\n",
        "        return \"Moo\"\n",
        "\n",
        "class Sheep(Animal):\n",
        "    def sound(self):\n",
        "        return \"Baa\"\n",
        "\n",
        "# Example usage:\n",
        "cow = Cow()\n",
        "sheep = Sheep()\n",
        "\n",
        "print(f\"Cow sound: {cow.sound()}\")\n",
        "print(f\"Sheep sound: {sheep.sound()}\")\n"
      ],
      "metadata": {
        "colab": {
          "base_uri": "https://localhost:8080/"
        },
        "id": "OlBVwgLDEGvO",
        "outputId": "d99c6e85-d543-48a0-b41a-22a9b9f5740d"
      },
      "execution_count": 5,
      "outputs": [
        {
          "output_type": "stream",
          "name": "stdout",
          "text": [
            "Cow sound: Moo\n",
            "Sheep sound: Baa\n"
          ]
        }
      ]
    },
    {
      "cell_type": "markdown",
      "source": [
        "17  Create a class Book with attributes title, author, and year_published. Add a method get_book_info() that\n",
        "returns a formatted string with the book's details\n",
        " Ans:"
      ],
      "metadata": {
        "id": "ktqjOND3EJsx"
      }
    },
    {
      "cell_type": "code",
      "source": [
        "class Book:\n",
        "    def __init__(self, title, author, year_published):\n",
        "        # Initialize the book with title, author, and year published\n",
        "        self.title = title\n",
        "        self.author = author\n",
        "        self.year_published = year_published\n",
        "\n",
        "    def get_book_info(self):\n",
        "        # Return a formatted string with the book's details\n",
        "        return f\"Title: {self.title}\\nAuthor: {self.author}\\nYear Published: {self.year_published}\"\n",
        "\n",
        "# Example usage:\n",
        "book = Book(\"The Great Gatsby\", \"F. Scott Fitzgerald\", 1925)\n",
        "\n",
        "print(book.get_book_info())\n"
      ],
      "metadata": {
        "colab": {
          "base_uri": "https://localhost:8080/"
        },
        "id": "v8pvOWpkEXXb",
        "outputId": "9a4980bb-fab5-424b-8b57-a7748e17bc7b"
      },
      "execution_count": 6,
      "outputs": [
        {
          "output_type": "stream",
          "name": "stdout",
          "text": [
            "Title: The Great Gatsby\n",
            "Author: F. Scott Fitzgerald\n",
            "Year Published: 1925\n"
          ]
        }
      ]
    },
    {
      "cell_type": "markdown",
      "source": [
        "18  Create a class House with attributes address and price. Create a derived class Mansion that adds an\n",
        "attribute number_of_rooms.\n",
        " Ans:"
      ],
      "metadata": {
        "id": "449FginXElLq"
      }
    },
    {
      "cell_type": "code",
      "source": [
        "class House:\n",
        "    def __init__(self, address, price):\n",
        "        # Initialize the house with address and price\n",
        "        self.address = address\n",
        "        self.price = price\n",
        "\n",
        "class Mansion(House):\n",
        "    def __init__(self, address, price, number_of_rooms):\n",
        "        # Initialize the mansion with address, price, and number of rooms\n",
        "        super().__init__(address, price)\n",
        "        self.number_of_rooms = number_of_rooms\n",
        "\n",
        "# Example usage:\n",
        "house = House(\"123 Main St, Smalltown\", 150000)\n",
        "mansion = Mansion(\"456 Luxury Blvd, Richville\", 5000000, 10)\n",
        "\n",
        "print(f\"House address: {house.address}, Price: ${house.price}\")\n",
        "print(f\"Mansion address: {mansion.address}, Price: ${mansion.price}, Number of rooms: {mansion.number_of_rooms}\")\n"
      ],
      "metadata": {
        "colab": {
          "base_uri": "https://localhost:8080/"
        },
        "id": "RtEJPPNEE6Ph",
        "outputId": "a4389c16-65b0-40b0-ca22-9176955457d5"
      },
      "execution_count": 7,
      "outputs": [
        {
          "output_type": "stream",
          "name": "stdout",
          "text": [
            "House address: 123 Main St, Smalltown, Price: $150000\n",
            "Mansion address: 456 Luxury Blvd, Richville, Price: $5000000, Number of rooms: 10\n"
          ]
        }
      ]
    }
  ]
}